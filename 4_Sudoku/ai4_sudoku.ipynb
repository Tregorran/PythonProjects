{
 "cells": [
  {
   "cell_type": "markdown",
   "metadata": {},
   "source": [
    "# Solving Sudoku\n",
    "\n",
    "The primary description of this coursework is available on the CM20252 Moodle page. This is the Jupyter notebook you must complete and submit to receive marks. \n",
    "\n",
    "** You must follow all instructions given in this notebook. **\n",
    "\n",
    "Restart the kernel and run all cells before submitting the notebook. This will guarantee that we will be able to run your code for testing.\n",
    "\n",
    "Remember to save your work regularly. "
   ]
  },
  {
   "cell_type": "markdown",
   "metadata": {},
   "source": [
    "## Getting Started\n",
    "\n",
    "You already know that you will be writing a Sudoku solver. You need to implement your solver in Python in this notebook. You can use any of the appropriate problem-solving techniques discussed in the lectures. You are encouraged to modify the basic algorithms. Be creative. \n",
    "\n",
    "You will be given Sudoku puzzles that either have a single solution or no solution. You will need to identify the solution, if there is one.\n",
    "\n",
    "Below is a sample puzzle along with its solution. \n",
    "\n",
    "<img src=\"images/Sudoku_unsolved.png\" style=\"width: 200px;\"/>\n",
    "<img src=\"images/Sudoku_solved.png\" style=\"width: 200px;\"/>\n"
   ]
  },
  {
   "cell_type": "markdown",
   "metadata": {},
   "source": [
    "## Sample Sudokus\n",
    "\n",
    "You can test your code on a set of 20 sample Sudoku puzzles. This set is similar to the test set that will be used to assess your work. \n",
    "\n",
    "The following code will load 20 Sudoku puzzles and their solutions into two `20x9x9` numpy arrays. Empty cells are designated by zeros. "
   ]
  },
  {
   "cell_type": "code",
   "execution_count": 1,
   "metadata": {
    "scrolled": false
   },
   "outputs": [
    {
     "name": "stdout",
     "output_type": "stream",
     "text": [
      "Shape of one sudoku array: (9, 9) . Type of array values: float64\n",
      "Shape of one sudoku solution array: (9, 9) . Type of array values: float64 \n",
      "\n",
      "Sudoku #1:\n",
      "[[0. 0. 4. 0. 8. 3. 0. 0. 2.]\n",
      " [0. 5. 1. 0. 0. 4. 3. 0. 0.]\n",
      " [0. 0. 0. 0. 9. 6. 7. 1. 0.]\n",
      " [1. 2. 0. 8. 0. 0. 0. 0. 6.]\n",
      " [0. 4. 0. 0. 0. 0. 5. 0. 0.]\n",
      " [8. 3. 0. 6. 0. 7. 9. 0. 0.]\n",
      " [0. 6. 0. 3. 0. 9. 0. 4. 0.]\n",
      " [0. 0. 7. 0. 0. 0. 2. 0. 5.]\n",
      " [0. 9. 0. 0. 5. 0. 8. 0. 3.]] \n",
      "\n",
      "Solution of Sudoku #1:\n",
      "[[9. 7. 4. 1. 8. 3. 6. 5. 2.]\n",
      " [6. 5. 1. 2. 7. 4. 3. 8. 9.]\n",
      " [2. 8. 3. 5. 9. 6. 7. 1. 4.]\n",
      " [1. 2. 9. 8. 3. 5. 4. 7. 6.]\n",
      " [7. 4. 6. 9. 1. 2. 5. 3. 8.]\n",
      " [8. 3. 5. 6. 4. 7. 9. 2. 1.]\n",
      " [5. 6. 8. 3. 2. 9. 1. 4. 7.]\n",
      " [3. 1. 7. 4. 6. 8. 2. 9. 5.]\n",
      " [4. 9. 2. 7. 5. 1. 8. 6. 3.]]\n"
     ]
    }
   ],
   "source": [
    "import numpy as np\n",
    "\n",
    "# Load sudokus\n",
    "sudokus = np.load(\"data/sudokus.npy\")\n",
    "print(\"Shape of one sudoku array:\", sudokus[0].shape, \". Type of array values:\", sudokus.dtype)\n",
    "\n",
    "# Load solutions\n",
    "solutions = np.load(\"data/sudoku_solutions.npy\")\n",
    "print(\"Shape of one sudoku solution array:\", solutions[0].shape, \". Type of array values:\", solutions.dtype, \"\\n\")\n",
    "\n",
    "# Print the first sudoku...\n",
    "print(\"Sudoku #1:\")\n",
    "print(sudokus[0], \"\\n\")\n",
    "\n",
    "# ...and its solution\n",
    "print(\"Solution of Sudoku #1:\")\n",
    "print(solutions[0])"
   ]
  },
  {
   "cell_type": "markdown",
   "metadata": {},
   "source": [
    "## Your code ##\n",
    "\n",
    "Define a function called `sudoku_solver()` that takes **one** Sudoku puzzle (a $9 \\times 9$ numpy array) as input and returns the solved Sudoku as a $9 \\times 9$ numpy array. Note that the test set may contain invalid Sudokus, that is, Sudokus with no solution. In such a case, your function should return a $9 \\times 9$ numpy array whose values are all equal to `-1`.  \n",
    "\n",
    "You may use more than one cell to write your code (but this is not necessary)."
   ]
  },
  {
   "cell_type": "code",
   "execution_count": 2,
   "metadata": {
    "deletable": false,
    "nbgrader": {
     "checksum": "24a16838998341fb01651c0700e52895",
     "grade": false,
     "grade_id": "cell-04002a3e6182aefa",
     "locked": false,
     "schema_version": 1,
     "solution": true
    }
   },
   "outputs": [],
   "source": [
    "class cell:\n",
    "    def __init__(self):\n",
    "        self.subtractSet = {1,2,3,4,5,6,7,8,9} #all possible number of each cell\n",
    "        self.value = 0 #value used for the cell\n",
    "        \n",
    "    #Removes value from subtractSet\n",
    "    def removeValue(self, value):\n",
    "        self.subtractSet.discard(value)\n",
    "    \n",
    "    #Checks if there is a single value in subtractSet\n",
    "    def singleValue(self):\n",
    "        if len(self.subtractSet) == 1:\n",
    "            return True\n",
    "        else:\n",
    "            return False\n",
    "    \n",
    "    #Remove row values in sudoku from subtract set\n",
    "    def removeRowSet(self, newSudoku, row):\n",
    "        for i in range(9):\n",
    "            if newSudoku[row][i].singleValue():\n",
    "                value = newSudoku[row][i].subtractSet.pop()\n",
    "                self.removeValue(value)\n",
    "                newSudoku[row][i].subtractSet.add(value)\n",
    "    \n",
    "    #remove column values in sudoku from subtract set\n",
    "    def removeColumnSet(self, newSudoku, column):\n",
    "        for i in range(9):\n",
    "            if newSudoku[i][column].singleValue():\n",
    "                value = newSudoku[i][column].subtractSet.pop()\n",
    "                self.removeValue(value)\n",
    "                newSudoku[i][column].subtractSet.add(value)            \n",
    "     \n",
    "    #remove in square values in sudoku from subtract set\n",
    "    def removeSquare(self, row, column, newSudoku):\n",
    "        row = row - (row%3)\n",
    "        column = column - (column%3)\n",
    "        for i in range(int(row), int(row)+3):\n",
    "            for j in range(int(column), int(column)+3):\n",
    "                if newSudoku[i][j].singleValue():\n",
    "                    value = newSudoku[i][j].subtractSet.pop()\n",
    "                    self.removeValue(value)\n",
    "                    newSudoku[i][j].subtractSet.add(value)\n",
    "\n",
    "\n",
    "                    \n",
    "                    \n",
    "def sudoku_solver(sudoku):\n",
    "    \"\"\"\n",
    "    Solves a Sudoku puzzle and returns its unique solution.\n",
    "\n",
    "    Input\n",
    "        sudoku : 9x9 numpy array\n",
    "            Empty cells are designated by 0.\n",
    "\n",
    "    Output\n",
    "        9x9 numpy array of integers\n",
    "            It contains the solution, if there is one. If there is no solution, all array entries should be -1.\n",
    "    \"\"\"\n",
    "    ### YOUR CODE HERE\n",
    "    error = 0\n",
    "        \n",
    "    #creates new sudoku array of objects\n",
    "    newSudoku = [[cell() for i in range(9)] for j in range(9)]\n",
    "    for i in range(9):\n",
    "        for j in range(9):\n",
    "            if sudoku[i][j] != 0:\n",
    "                newSudoku[i][j].subtractSet = {sudoku[i][j]}\n",
    "    \n",
    "    #apply initial contraints to each cell individually\n",
    "    checked = 0\n",
    "    oldSudoku = []\n",
    "    while checked < 5:\n",
    "        if oldSudoku == newSudoku:\n",
    "            checked += 1\n",
    "        else:\n",
    "            checked = 0\n",
    "        oldSudoku = newSudoku.copy()\n",
    "        for i in range(9):\n",
    "            for j in range(9):\n",
    "                if len(newSudoku[i][j].subtractSet) != 1:\n",
    "                    newSudoku[i][j].removeRowSet(newSudoku, i)\n",
    "                    newSudoku[i][j].removeColumnSet(newSudoku, j)\n",
    "                    newSudoku[i][j].removeSquare(i, j, newSudoku)\n",
    "                    if len(newSudoku[i][j].subtractSet) == 0:\n",
    "                        error = 1\n",
    "    performBack = False\n",
    "    if error == 0:\n",
    "        for i in range(9):\n",
    "            for j in range(9):\n",
    "                if len(newSudoku[i][j].subtractSet) != 1:\n",
    "                    performBack = True\n",
    "    \n",
    "    if performBack == True:\n",
    "        if(backtracking(newSudoku, 0 ,0)):\n",
    "            error = 0\n",
    "        else:\n",
    "            error = 1\n",
    "    \n",
    "    sudoku = CompileValues(newSudoku, sudoku, error)     \n",
    "    return sudoku\n",
    "\n",
    "def CompileValues(newSudoku,sudoku,error):\n",
    "    for i in range(9):\n",
    "        for j in range(9):\n",
    "            if error == 1:\n",
    "                sudoku[i][j] = -1\n",
    "            elif newSudoku[i][j].value != 0:\n",
    "                sudoku[i][j] = newSudoku[i][j].value           \n",
    "            elif newSudoku[i][j].singleValue():\n",
    "                value = newSudoku[i][j].subtractSet.pop()\n",
    "                sudoku[i][j] = value\n",
    "    return sudoku\n",
    "\n",
    "def checkRow(newSudoku, newValue, row):\n",
    "    for i in range(9):\n",
    "        if newSudoku[row][i].value != 0:\n",
    "            if newSudoku[row][i].value == newValue:\n",
    "                return False\n",
    "    return True\n",
    "            \n",
    "def checkCol(newSudoku, newValue, col):\n",
    "    for i in range(9):\n",
    "        if newSudoku[i][col].value != 0:\n",
    "            if newSudoku[i][col].value == newValue:\n",
    "                return False\n",
    "    return True\n",
    "\n",
    "def checkSquare(newSudoku, newValue, row, col):\n",
    "    row = row - (row%3)\n",
    "    col = col - (col%3)\n",
    "    \n",
    "    for i in range(row, row+3):\n",
    "        for j in range(col, col+3):\n",
    "            if newSudoku[i][j].value > 0:\n",
    "                if newSudoku[i][j].value == newValue:\n",
    "                    return False\n",
    "    return True\n",
    "\n",
    "def backtracking(newSudoku, row, col):\n",
    "    if col > 8:\n",
    "            row += 1\n",
    "            col = 0\n",
    "    if row > 8:\n",
    "        return True\n",
    "    \n",
    "    for i in newSudoku[row][col].subtractSet:\n",
    "        \n",
    "        if checkRow(newSudoku, i, row) & checkCol(newSudoku, i, col) & checkSquare(newSudoku, i, row, col):        \n",
    "            newSudoku[row][col].value = i\n",
    "\n",
    "            if backtracking(newSudoku, row, col+1):\n",
    "                return True\n",
    "            \n",
    "            newSudoku[row][col].value = 0\n",
    "        \n",
    "    return False"
   ]
  },
  {
   "cell_type": "markdown",
   "metadata": {},
   "source": [
    "## Testing your code\n",
    "\n",
    "You can test your code on the sudoku puzzles that we have provided in the following cell. This will work only if all of your code is above the test cell. Otherwise, the test cell does not have access to the `sudoku_solver()` function. Before you submit, please comment out any code that you used to test your function on the training puzzles."
   ]
  },
  {
   "cell_type": "code",
   "execution_count": 3,
   "metadata": {
    "scrolled": true
   },
   "outputs": [],
   "source": [
    "# Uncomment the following block to test your code. Comment it out again before submitting.\n",
    "\n",
    "#for i in range(len(sudokus)):\n",
    "#    sudoku = sudokus[i].copy()\n",
    "#    print(\"This is sudoku number\", i)\n",
    "#    print(sudoku)\n",
    "#    your_solution = sudoku_solver(sudokus[i])\n",
    "#    print(\"This is your solution for sudoku number\", i)\n",
    "#    print(your_solution)\n",
    "#    print(\"Is your solution correct?\")\n",
    "#    print(np.array_equal(your_solution, solutions[i]))\n"
   ]
  },
  {
   "cell_type": "markdown",
   "metadata": {},
   "source": [
    "## How we will test your code\n",
    "\n",
    "We will test your code using the hidden tests in the following cell. Specifically, the hidden tests will test your `sudoku_solver()` function on a different set of 20 sudoku puzzles of similar difficulty. **Make sure all of your code is above our test cell. ** Otherwise, the test cell will not have access to the sudoku_solver() function and you will receive zero marks.\n",
    "\n",
    "## IMPORTANT: How to submit\n",
    "\n",
    "If any of the following instructions is not clear, please ask your tutors well ahead of the submission deadline.\n",
    "\n",
    "#### Before you submit\n",
    "- Restart the kernel (_Kernel $\\rightarrow$ Restart & Run All_) and make sure that you can run all cells from top to bottom without any errors.\n",
    "- Make sure that the test cell has access to the `sudoku_solver()` function that you defined and make sure that this function returns the solved Sudoku in the correct data type and shape.\n",
    "- Please comment out any code that you used to test your function on the training puzzles.\n",
    "- Make sure that your code is written in Python 3 (and not in Python 2!). You can check the Python version of the current session in the top-right corner below the Python logo.\n",
    "\n",
    "#### Submission file\n",
    "- Please upload to Moodle a single Jupyter notebook file called \"ai4_sudoku.ipynb\". Do __not__ compress/zip your Jupyter notebook file.\n",
    "- Do not include __any__ identifying information. Marking is anonymous."
   ]
  },
  {
   "cell_type": "code",
   "execution_count": 4,
   "metadata": {
    "deletable": false,
    "editable": false,
    "nbgrader": {
     "checksum": "bd5a0eb4784407571c7c10de2c312bb1",
     "grade": true,
     "grade_id": "cell-79e0e98009b0e252",
     "locked": true,
     "points": 0,
     "schema_version": 1,
     "solution": false
    }
   },
   "outputs": [],
   "source": [
    "# This is a TEST CELL. Do not delete or change. All of your code must be written above this cell. "
   ]
  },
  {
   "cell_type": "code",
   "execution_count": 5,
   "metadata": {
    "deletable": false,
    "editable": false,
    "nbgrader": {
     "checksum": "35bb34b233e929c6a0edad7d13f01858",
     "grade": true,
     "grade_id": "cell-2e7deb42a0d7acf3",
     "locked": true,
     "points": 5,
     "schema_version": 1,
     "solution": false
    }
   },
   "outputs": [],
   "source": [
    "# This is a TEST CELL. Do not delete or change. "
   ]
  },
  {
   "cell_type": "code",
   "execution_count": 6,
   "metadata": {
    "deletable": false,
    "editable": false,
    "nbgrader": {
     "checksum": "865e347b7c6e3a55b00c240c54a62338",
     "grade": true,
     "grade_id": "cell-386efaa6fafeb3f6",
     "locked": true,
     "points": 5,
     "schema_version": 1,
     "solution": false
    }
   },
   "outputs": [],
   "source": [
    "# This is a TEST CELL. Do not delete or change. "
   ]
  },
  {
   "cell_type": "code",
   "execution_count": 7,
   "metadata": {
    "deletable": false,
    "editable": false,
    "nbgrader": {
     "checksum": "172ab9ffb1e3648451d5623f30c9abad",
     "grade": true,
     "grade_id": "cell-66623dfb40a54eb5",
     "locked": true,
     "points": 5,
     "schema_version": 1,
     "solution": false
    }
   },
   "outputs": [],
   "source": [
    "# This is a TEST CELL. Do not delete or change. "
   ]
  },
  {
   "cell_type": "code",
   "execution_count": 8,
   "metadata": {
    "deletable": false,
    "editable": false,
    "nbgrader": {
     "checksum": "49c7159d41e86c848476a7890e098ded",
     "grade": true,
     "grade_id": "cell-70e8488333ad4141",
     "locked": true,
     "points": 5,
     "schema_version": 1,
     "solution": false
    }
   },
   "outputs": [],
   "source": [
    "# This is a TEST CELL. Do not delete or change. "
   ]
  },
  {
   "cell_type": "code",
   "execution_count": 9,
   "metadata": {
    "deletable": false,
    "editable": false,
    "nbgrader": {
     "checksum": "99a9bd5a7c4f100c533234c3b0e73b47",
     "grade": true,
     "grade_id": "cell-d7e384258321cfe2",
     "locked": true,
     "points": 5,
     "schema_version": 1,
     "solution": false
    }
   },
   "outputs": [],
   "source": [
    "# This is a TEST CELL. Do not delete or change. "
   ]
  },
  {
   "cell_type": "code",
   "execution_count": 10,
   "metadata": {
    "deletable": false,
    "editable": false,
    "nbgrader": {
     "checksum": "779a6bb43ea64f47f861dc489ffc0416",
     "grade": true,
     "grade_id": "cell-7918223ea8eaf312",
     "locked": true,
     "points": 5,
     "schema_version": 1,
     "solution": false
    }
   },
   "outputs": [],
   "source": [
    "# This is a TEST CELL. Do not delete or change. "
   ]
  },
  {
   "cell_type": "code",
   "execution_count": 11,
   "metadata": {
    "deletable": false,
    "editable": false,
    "nbgrader": {
     "checksum": "ab1f375f03315aa7db6ff6dda3a3bc7a",
     "grade": true,
     "grade_id": "cell-45bc083ed87bc300",
     "locked": true,
     "points": 5,
     "schema_version": 1,
     "solution": false
    }
   },
   "outputs": [],
   "source": [
    "# This is a TEST CELL. Do not delete or change. "
   ]
  },
  {
   "cell_type": "code",
   "execution_count": 12,
   "metadata": {
    "deletable": false,
    "editable": false,
    "nbgrader": {
     "checksum": "426915305e6b4ad283b060dd72404921",
     "grade": true,
     "grade_id": "cell-5f8b3d1855ee6285",
     "locked": true,
     "points": 5,
     "schema_version": 1,
     "solution": false
    }
   },
   "outputs": [],
   "source": [
    "# This is a TEST CELL. Do not delete or change. "
   ]
  },
  {
   "cell_type": "code",
   "execution_count": 13,
   "metadata": {
    "deletable": false,
    "editable": false,
    "nbgrader": {
     "checksum": "7729874baf67a3152451b073b3a9b8a5",
     "grade": true,
     "grade_id": "cell-fea335bb606b7a26",
     "locked": true,
     "points": 5,
     "schema_version": 1,
     "solution": false
    }
   },
   "outputs": [],
   "source": [
    "# This is a TEST CELL. Do not delete or change. "
   ]
  },
  {
   "cell_type": "code",
   "execution_count": 14,
   "metadata": {
    "deletable": false,
    "editable": false,
    "nbgrader": {
     "checksum": "83674d9746c48cf42255f6ea089d47d0",
     "grade": true,
     "grade_id": "cell-4834cac84f1ddf4b",
     "locked": true,
     "points": 5,
     "schema_version": 1,
     "solution": false
    }
   },
   "outputs": [],
   "source": [
    "# This is a TEST CELL. Do not delete or change. "
   ]
  },
  {
   "cell_type": "code",
   "execution_count": 15,
   "metadata": {
    "deletable": false,
    "editable": false,
    "nbgrader": {
     "checksum": "0016c6a3b0af63eef4acf2aab0bd7570",
     "grade": true,
     "grade_id": "cell-5b7a623f2f5a1328",
     "locked": true,
     "points": 5,
     "schema_version": 1,
     "solution": false
    }
   },
   "outputs": [],
   "source": [
    "# This is a TEST CELL. Do not delete or change. "
   ]
  },
  {
   "cell_type": "code",
   "execution_count": 16,
   "metadata": {
    "deletable": false,
    "editable": false,
    "nbgrader": {
     "checksum": "47ef2214017769ada8ffb3e4e2afee58",
     "grade": true,
     "grade_id": "cell-a8eb2d8290007a39",
     "locked": true,
     "points": 5,
     "schema_version": 1,
     "solution": false
    }
   },
   "outputs": [],
   "source": [
    "# This is a TEST CELL. Do not delete or change. "
   ]
  },
  {
   "cell_type": "code",
   "execution_count": 17,
   "metadata": {
    "deletable": false,
    "editable": false,
    "nbgrader": {
     "checksum": "f133004976120f94439289ef0efe72af",
     "grade": true,
     "grade_id": "cell-55f416dcd3cc7369",
     "locked": true,
     "points": 5,
     "schema_version": 1,
     "solution": false
    }
   },
   "outputs": [],
   "source": [
    "# This is a TEST CELL. Do not delete or change. "
   ]
  },
  {
   "cell_type": "code",
   "execution_count": 18,
   "metadata": {
    "deletable": false,
    "editable": false,
    "nbgrader": {
     "checksum": "ced72d45a1174daa0a3bdfe7108e8c09",
     "grade": true,
     "grade_id": "cell-823bb259328b6edd",
     "locked": true,
     "points": 5,
     "schema_version": 1,
     "solution": false
    }
   },
   "outputs": [],
   "source": [
    "# This is a TEST CELL. Do not delete or change. "
   ]
  },
  {
   "cell_type": "code",
   "execution_count": 19,
   "metadata": {
    "deletable": false,
    "editable": false,
    "nbgrader": {
     "checksum": "59dd8edc6c7f9452b7240a3813390d3c",
     "grade": true,
     "grade_id": "cell-4cd5275287de683e",
     "locked": true,
     "points": 5,
     "schema_version": 1,
     "solution": false
    }
   },
   "outputs": [],
   "source": [
    "# This is a TEST CELL. Do not delete or change. "
   ]
  },
  {
   "cell_type": "code",
   "execution_count": 20,
   "metadata": {
    "deletable": false,
    "editable": false,
    "nbgrader": {
     "checksum": "56701646422d6d5c2f132571455c4474",
     "grade": true,
     "grade_id": "cell-78b178ed7727724a",
     "locked": true,
     "points": 5,
     "schema_version": 1,
     "solution": false
    }
   },
   "outputs": [],
   "source": [
    "# This is a TEST CELL. Do not delete or change. "
   ]
  },
  {
   "cell_type": "code",
   "execution_count": 21,
   "metadata": {
    "deletable": false,
    "editable": false,
    "nbgrader": {
     "checksum": "77f7f18363ac81d9d330a3ff30ff15a0",
     "grade": true,
     "grade_id": "cell-f4176a7de596e909",
     "locked": true,
     "points": 5,
     "schema_version": 1,
     "solution": false
    }
   },
   "outputs": [],
   "source": [
    "# This is a TEST CELL. Do not delete or change. "
   ]
  },
  {
   "cell_type": "code",
   "execution_count": 22,
   "metadata": {
    "deletable": false,
    "editable": false,
    "nbgrader": {
     "checksum": "f4c492fafba057a4b6f7f03a9714e95c",
     "grade": true,
     "grade_id": "cell-c79cc051aaf61eb2",
     "locked": true,
     "points": 5,
     "schema_version": 1,
     "solution": false
    }
   },
   "outputs": [],
   "source": [
    "# This is a TEST CELL. Do not delete or change. "
   ]
  },
  {
   "cell_type": "code",
   "execution_count": 23,
   "metadata": {
    "deletable": false,
    "editable": false,
    "nbgrader": {
     "checksum": "85ea93ab5a94d5c20423070e85b2ad8c",
     "grade": true,
     "grade_id": "cell-ec9b5c217f399dbe",
     "locked": true,
     "points": 5,
     "schema_version": 1,
     "solution": false
    }
   },
   "outputs": [],
   "source": [
    "# This is a TEST CELL. Do not delete or change. "
   ]
  },
  {
   "cell_type": "code",
   "execution_count": 24,
   "metadata": {
    "deletable": false,
    "editable": false,
    "nbgrader": {
     "checksum": "385a1b7e0eed034b903ef25774d57f95",
     "grade": true,
     "grade_id": "cell-a226f039f4cc2427",
     "locked": true,
     "points": 5,
     "schema_version": 1,
     "solution": false
    }
   },
   "outputs": [],
   "source": [
    "# This is a TEST CELL. Do not delete or change. "
   ]
  }
 ],
 "metadata": {
  "kernelspec": {
   "display_name": "Python 3",
   "language": "python",
   "name": "python3"
  },
  "language_info": {
   "codemirror_mode": {
    "name": "ipython",
    "version": 3
   },
   "file_extension": ".py",
   "mimetype": "text/x-python",
   "name": "python",
   "nbconvert_exporter": "python",
   "pygments_lexer": "ipython3",
   "version": "3.7.3"
  }
 },
 "nbformat": 4,
 "nbformat_minor": 2
}
