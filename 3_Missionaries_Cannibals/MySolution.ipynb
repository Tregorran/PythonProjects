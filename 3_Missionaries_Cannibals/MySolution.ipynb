{
 "cells": [
  {
   "cell_type": "code",
   "execution_count": 2,
   "metadata": {},
   "outputs": [],
   "source": [
    "import numpy as np"
   ]
  },
  {
   "cell_type": "code",
   "execution_count": 3,
   "metadata": {},
   "outputs": [],
   "source": [
    "class Node:\n",
    "    #inital set up into array <3,3,1>\n",
    "    def __init__(self, missionaries_wrong_side, cannibals_wrong_side, boat_wrong_side, parent_node):\n",
    "        self.missionaries_wrong_side = missionaries_wrong_side\n",
    "        self.cannibals_wrong_side = cannibals_wrong_side\n",
    "        self.boat_wrong_side = boat_wrong_side\n",
    "        self.parent_node = parent_node\n",
    "        \n",
    "        self.state = np.array([self.missionaries_wrong_side, self.cannibals_wrong_side, self.boat_wrong_side])\n",
    "    \n",
    "    ##returns true if all missionaries, cannibals and boat is on the right side\n",
    "    def is_goal_state(self):\n",
    "         return np.all(self.state == 0)\n",
    "    \n",
    "    #\n",
    "    def get_child_node(self, action):\n",
    "        if self.boat_wrong_side == 1:\n",
    "            new_state = self.state - action\n",
    "        elif self.boat_wrong_side == 0:\n",
    "            new_state = self.state + action\n",
    "        else:\n",
    "            raise ValueError('Error boat_wrong_side has to be either 0 or 1')\n",
    "        child_node = Node(new_state[0], new_state[1], new_state[2], parent_node=self)\n",
    "        return child_node\n",
    "        \n",
    "    def is_valid_state(self):\n",
    "        if 0 <= self.missionaries_wrong_side <= 3 and 0 <= self.cannibals_wrong_side <=3:\n",
    "            if (self.missionaries_wrong_side <= self.cannibals_wrong_side or self.missionaries_wrong_side == 3) and (self.missionaries_wrong_side >= self.cannibals_wrong_side or self.missionaries_wrong_side == 0):\n",
    "                return True\n",
    "        else: \n",
    "            return False\n",
    "        \n",
    "    def __str__(self):\n",
    "        return \"node <\" + str(self.missionaries_wrong_side) + \",\" + str(self.cannibals_wrong_side) + \",\" + str(self.boat_wrong_side) + \">\"\n",
    "        \n",
    "    def __eq__(self, other):\n",
    "        if self.missionaries_wrong_side == other.missionaries_wrong_side and self.cannibals_wrong_side == other.cannibals_wrong_side and self.boat_wrong_side == other.boat_wrong_side:\n",
    "            return True\n",
    "        else:\n",
    "            return False\n",
    "            \n",
    "        "
   ]
  },
  {
   "cell_type": "code",
   "execution_count": 7,
   "metadata": {},
   "outputs": [],
   "source": [
    "class Game:\n",
    "    def __init__(self):\n",
    "        self.starting_node = Node(3,3,1,parent_node=\"initial\")\n",
    "        print(self.starting_node)\n",
    "        \n",
    "        self.actions = [np.array([1, 0, 1]),\n",
    "                        np.array([2, 0, 1]),\n",
    "                        np.array([0, 1, 1]),\n",
    "                        np.array([0, 2, 1]),\n",
    "                        np.array([1, 1, 1])]\n",
    "    \n",
    "    def breadth_first_search(self):\n",
    "        if self.starting_node.is_goal_state():\n",
    "            return starting_node\n",
    "        \n",
    "        frontier = []\n",
    "        explored = []\n",
    "        frontier.append(self.starting_node)\n",
    "\n",
    "        while True:\n",
    "            if len(frontier) == 0:\n",
    "                return \"Failure\"\n",
    "            node = frontier.pop(0)\n",
    "            explored.append(node)\n",
    "            for action in self.actions:\n",
    "                child = node.get_child_node(action)\n",
    "                if child.is_valid_state() and (child not in explored) and (child not in frontier):\n",
    "                    print(\"Exploring\", node, \"...\")\n",
    "                    if child.is_goal_state():\n",
    "                        return child\n",
    "                    frontier.append(child)\n"
   ]
  },
  {
   "cell_type": "code",
   "execution_count": 11,
   "metadata": {
    "scrolled": false
   },
   "outputs": [
    {
     "name": "stdout",
     "output_type": "stream",
     "text": [
      "node <3,3,1>\n",
      "Exploring node <3,3,1> ...\n",
      "Exploring node <3,3,1> ...\n",
      "Exploring node <3,3,1> ...\n",
      "Exploring node <3,1,0> ...\n",
      "Exploring node <3,2,1> ...\n",
      "Exploring node <3,0,0> ...\n",
      "Exploring node <3,1,1> ...\n",
      "Exploring node <1,1,0> ...\n",
      "Exploring node <2,2,1> ...\n",
      "Exploring node <0,2,0> ...\n",
      "Exploring node <0,3,1> ...\n",
      "Exploring node <0,1,0> ...\n",
      "Exploring node <0,1,0> ...\n",
      "Exploring node <1,1,1> ...\n",
      "Found goal state node <0,0,0>\n"
     ]
    }
   ],
   "source": [
    "g = Game()\n",
    "goal_state = g.breadth_first_search()\n",
    "print(\"Found goal state\", goal_state)"
   ]
  },
  {
   "cell_type": "code",
   "execution_count": 12,
   "metadata": {},
   "outputs": [
    {
     "name": "stdout",
     "output_type": "stream",
     "text": [
      "Goal node: node <0,0,0>\n",
      "--> node <1,1,1>\n",
      "--> node <0,1,0>\n",
      "--> node <0,3,1>\n",
      "--> node <0,2,0>\n",
      "--> node <2,2,1>\n",
      "--> node <1,1,0>\n",
      "--> node <3,1,1>\n",
      "--> node <3,0,0>\n",
      "--> node <3,2,1>\n",
      "--> node <3,1,0>\n",
      "--> node <3,3,1>\n"
     ]
    }
   ],
   "source": [
    "def find_path_to_start(goal_node):\n",
    "    # Recursively check parent node(s) of the goal_node\n",
    "    def get_parent_node(node):\n",
    "        parent_node = node.parent_node\n",
    "        print(\"-->\", parent_node)\n",
    "        if isinstance(parent_node.parent_node, str) and parent_node.parent_node == \"initial\":\n",
    "            return parent_node\n",
    "        else:\n",
    "            get_parent_node(parent_node) \n",
    "    \n",
    "    print(\"Goal node:\", goal_node)\n",
    "    start_node = get_parent_node(goal_node)\n",
    "    return start_node\n",
    "    \n",
    "start_node = find_path_to_start(goal_state)  \n",
    "        "
   ]
  },
  {
   "cell_type": "code",
   "execution_count": null,
   "metadata": {},
   "outputs": [],
   "source": []
  }
 ],
 "metadata": {
  "kernelspec": {
   "display_name": "Python 3",
   "language": "python",
   "name": "python3"
  },
  "language_info": {
   "codemirror_mode": {
    "name": "ipython",
    "version": 3
   },
   "file_extension": ".py",
   "mimetype": "text/x-python",
   "name": "python",
   "nbconvert_exporter": "python",
   "pygments_lexer": "ipython3",
   "version": "3.7.3"
  }
 },
 "nbformat": 4,
 "nbformat_minor": 2
}
