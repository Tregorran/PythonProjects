{
 "cells": [
  {
   "cell_type": "markdown",
   "metadata": {},
   "source": [
    "### Artificial Intelligence (CM20252 / CM50263) Lab - Session 3\n",
    "\n",
    "Lecturer: Rob Wortham r.h.wortham@bath.ac.uk\n",
    "\n",
    "Tutors: \n",
    "\n",
    "* Andreasa Morris Martin a.l.morris.martin@bath.ac.uk\n",
    "* Fahid Mohammed f.r.mohammed@bath.ac.uk\n",
    "* Shengjun Xu sx329@bath.ac.uk\n",
    "* Andreas Theophilou ajt80@bath.ac.uk\n",
    "* Ed Wong elhw20@bath.ac.uk\n",
    "* Xingyun Yang xy692@bath.ac.uk\n",
    "* Jiahang Li jl3770@bath.ac.uk\n",
    "* Oscar Bryan ob300@bath.ac.uk\n",
    "* Mafalda Ribeiro mr611@bath.ac.uk\n",
    "* Jack Saunders jrs68@bath.ac.uk\n",
    "* Redan Yelden ry356@bath.ac.uk\n",
    "* Andy Barnes apb41@bath.ac.uk\n"
   ]
  },
  {
   "cell_type": "raw",
   "metadata": {},
   "source": []
  },
  {
   "cell_type": "markdown",
   "metadata": {},
   "source": [
    "# The Missionaries and Cannibals Problem"
   ]
  },
  {
   "cell_type": "markdown",
   "metadata": {
    "collapsed": true
   },
   "source": [
    "The [missionaries and cannibals](https://en.wikipedia.org/wiki/Missionaries_and_cannibals_problem) is a well known toy problem in the AI literature. The problem was used by [Saul Amarel (1968)](https://web.archive.org/web/20080308224227/http://www.cc.gatech.edu/~jimmyd/summaries/amarel1968-1.html) as an example of problem representation but versions of the game are known to be at least [1000 years old](https://en.wikipedia.org/wiki/Missionaries_and_cannibals_problem#History). The problem is also subject of Exercise 3.9 in Russell & Norvig (2016, 3rd ed.) where it is stated as follows (p. 115).\n",
    "\n",
    "_\"Three missionaries and three cannibals are on one side of a river, along with a boat that can hold one or two people. Find a way to get everyone to the other side without ever leaving a group of missionaries in one place outnumbered by the cannibals in that place.\"_\n",
    "\n",
    "<br><br>\n",
    "<figure>\n",
    "<img src=\"img/mc-search-space.png\" width=600>\n",
    "<figcaption>Figure 1. The complete search space of the missionaries and cannibals problem. The initial state is shown on the left, whereas the goal state is all the way to the right. Missionaries are represented by black triangles and cannibals by red circles. Arrows represent state transitions and are labelled with actions, e.g., 2c represents the action of two cannibals crossing the river. Credit: [Gerhard Wickler](http://www.aiai.ed.ac.uk/~gwickler/missionaries.html)</figcaption>\n",
    "</figure>\n",
    "<br><br>\n",
    "\n",
    "##### Your task is to write a Python program that solves the missionaries and cannibals problem using **breadth-first search**. You can directly follow the pseudo-code of R&N (p. 82) depicted below.\n",
    "\n",
    "<img src=\"img/Breadth_first_search.png\" width=600>\n",
    "\n",
    "Furthermore can also use the accompanying \"Infrastructure for search algorithms\" shown in Section 3.3.1 of the [same book](http://bath-ac-primo.hosted.exlibrisgroup.com/44BAT_VU1:CSCOP_44BAT_DEEP:44BAT_ALMA_DS5\n",
    "147658760002761). Specifically, you may define a `Node` class with attributes\n",
    " * `state`: the state in the state space to which the node corresponds;\n",
    " * `parent` (optional): the node in the search tree that generated this node;\n",
    " * `action` (optional): the action that was applied to the parent to generate the node;\n",
    " \n",
    "and methods\n",
    "\n",
    " * `is_goal_state()`: check whether the Node is the goal state;\n",
    " * `get_child_node()`: given an action, return the resulting child state;\n",
    " * `is_valid_state()`: would the state result in missionaries getting eaten?\n",
    " \n",
    "Once you have a functioning `Node` class you need to come up with data structures for your `frontier` and your set of  `explored` nodes. \n",
    "\n",
    "The next choices you have to make is how to represent states and actions. You may follow Saul Amarel's approach of  representing the current state by a simple vector $<a,b,c>$. The vector's elements $a,b,$ and $c$ represent the number of missionaries on the wrong side, the number of cannibals on the wrong side, and the number of boats on the wrong side, respectively. Since all missionaries, all cannibals, and the boat start on the wrong side, the vector is initialized to $<3,3,1>$. Actions are represented using vector subtraction/addition to manipulate the state vector. For instance, if one cannibal crossed the river, the vector $<0,1,1>$ would be subtracted from the state to yield $<3,2,0>$.\n",
    "\n",
    "You can thus (but do not have to) use the following structure and define two classes `Node` and `Game`:"
   ]
  },
  {
   "cell_type": "code",
   "execution_count": null,
   "metadata": {
    "collapsed": true
   },
   "outputs": [],
   "source": [
    "# I recommend you to start coding in another cell below and to keep this cell as a reference.\n",
    "# That way you can incrementally build --> debug --> build --> debug --> ... your classes  \n",
    "# instead of trying to do it all at once.\n",
    "\n",
    "# class Node:\n",
    "#     def __init__(self, missionaries_wrong_side, cannibals_wrong_side, boat_wrong_side):\n",
    "#         self.state = ...\n",
    "    \n",
    "#     def is_goal_state(self):\n",
    "#         ...\n",
    "\n",
    "#     def get_child_node(self, action):\n",
    "#         ...\n",
    "\n",
    "#     ...\n",
    "\n",
    "        \n",
    "# class Game:\n",
    "#     def __init__(self):\n",
    "#         self.initial_node = Node(missionaries_wrong_side=3, cannibals_wrong_side=3, boat_wrong_side=1)\n",
    "#         ...\n",
    "    \n",
    "#     def breadth_first_search(self):\n",
    "#         ..."
   ]
  },
  {
   "cell_type": "code",
   "execution_count": null,
   "metadata": {
    "collapsed": true
   },
   "outputs": [],
   "source": [
    "### Your code here!\n",
    "# ...\n"
   ]
  },
  {
   "cell_type": "markdown",
   "metadata": {},
   "source": [
    "If you use the provided template you could then try to reproduce the following printed output."
   ]
  },
  {
   "cell_type": "code",
   "execution_count": 2,
   "metadata": {},
   "outputs": [
    {
     "name": "stdout",
     "output_type": "stream",
     "text": [
      "Exploring Node <3,3,1> ...\n",
      "Exploring Node <3,2,0> ...\n",
      "Exploring Node <3,1,0> ...\n",
      "Exploring Node <2,2,0> ...\n",
      "Exploring Node <3,2,1> ...\n",
      "Exploring Node <3,0,0> ...\n",
      "Exploring Node <3,1,1> ...\n",
      "Exploring Node <1,1,0> ...\n",
      "Exploring Node <2,2,1> ...\n",
      "Exploring Node <0,2,0> ...\n",
      "Exploring Node <0,3,1> ...\n",
      "Exploring Node <0,1,0> ...\n",
      "Exploring Node <1,1,1> ...\n",
      "The goal node is Node <0,0,0>\n"
     ]
    }
   ],
   "source": [
    "g = Game()\n",
    "goal_node = g.breadth_first_search()\n",
    "print(\"The goal node is\", goal_node)"
   ]
  }
 ],
 "metadata": {
  "kernelspec": {
   "display_name": "Python 3",
   "language": "python",
   "name": "python3"
  },
  "language_info": {
   "codemirror_mode": {
    "name": "ipython",
    "version": 3
   },
   "file_extension": ".py",
   "mimetype": "text/x-python",
   "name": "python",
   "nbconvert_exporter": "python",
   "pygments_lexer": "ipython3",
   "version": "3.7.3"
  }
 },
 "nbformat": 4,
 "nbformat_minor": 2
}
